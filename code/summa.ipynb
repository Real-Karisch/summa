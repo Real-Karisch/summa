{
 "cells": [
  {
   "cell_type": "code",
   "execution_count": 45,
   "metadata": {},
   "outputs": [],
   "source": [
    "import re\n",
    "from copy import deepcopy\n",
    "from airium import Airium\n",
    "from summaToHtml import alterSummaLines, parseSumma, processQuestionIndices, patterns, processArticleIndices\n",
    "from summaToJson import generateSummaJson"
   ]
  },
  {
   "cell_type": "code",
   "execution_count": 15,
   "metadata": {},
   "outputs": [
    {
     "data": {
      "text/plain": [
       "[0, 1, 2, 3, 4, 8, 9, 10, 11, 12, 13, 14]"
      ]
     },
     "execution_count": 15,
     "metadata": {},
     "output_type": "execute_result"
    }
   ],
   "source": [
    "\n",
    "\n",
    "with open('C:/Users/jackk/Projects/summa/data/st_raw_prima_secundae.txt', 'r') as file:\n",
    "    lines = file.readlines()\n",
    "\n",
    "summaLines = alterSummaLines(lines, 'I-II')\n",
    "\n",
    "generateSummaJson()"
   ]
  },
  {
   "cell_type": "code",
   "execution_count": 31,
   "metadata": {},
   "outputs": [],
   "source": []
  },
  {
   "cell_type": "code",
   "execution_count": 34,
   "metadata": {},
   "outputs": [
    {
     "data": {
      "text/plain": [
       "{'articleSeparators': [28, 95, 178, 254, 347, 429, 486, 535]}"
      ]
     },
     "execution_count": 34,
     "metadata": {},
     "output_type": "execute_result"
    }
   ],
   "source": [
    "summaParsed = parseSumma(summaLines)\n",
    "questionIndices = processQuestionIndices(summaParsed['questionsLines'][0])\n",
    "questionIndices"
   ]
  },
  {
   "cell_type": "code",
   "execution_count": 24,
   "metadata": {},
   "outputs": [
    {
     "data": {
      "text/plain": [
       "['\\n',\n",
       " 'FIRST PART OF THE SECOND PART (QQ. 1-114)\\n',\n",
       " '\\n',\n",
       " 'Question\\n',\n",
       " '\\n',\n",
       " 'PENIS',\n",
       " \"1.   Of Man's Last End\\n\",\n",
       " \"2.   Of Those Things in Which Man's Happiness Consists\\n\",\n",
       " '3.   What Is Happiness\\n',\n",
       " '4.   Of Those Things That Are Required for Happiness\\n']"
      ]
     },
     "execution_count": 24,
     "metadata": {},
     "output_type": "execute_result"
    }
   ],
   "source": [
    "lines[115:125]"
   ]
  },
  {
   "cell_type": "code",
   "execution_count": 15,
   "metadata": {},
   "outputs": [],
   "source": [
    "hardCodeLineAlterations = {\n",
    "    'I': {\n",
    "        'insertions': [\n",
    "            {\n",
    "                'index': 52540,\n",
    "                'value': 'QUESTION 116'\n",
    "            },\n",
    "        ],\n",
    "        'overwrites': [\n",
    "            {\n",
    "                \n",
    "            }\n",
    "        ]\n",
    "\n",
    "    },\n",
    "    'II-I': {\n",
    "\n",
    "    },\n",
    "    'II-II': {\n",
    "\n",
    "    },\n",
    "    'III': {\n",
    "\n",
    "    }\n",
    "}"
   ]
  },
  {
   "cell_type": "code",
   "execution_count": 12,
   "metadata": {},
   "outputs": [
    {
     "data": {
      "text/plain": [
       "'penis'"
      ]
     },
     "execution_count": 12,
     "metadata": {},
     "output_type": "execute_result"
    }
   ],
   "source": [
    "s = \"daddy jack _penis_ kare\"\n",
    "p = re.compile(r\"\"\"_([A-Za-z\"',.-?:;]+)_\"\"\")\n",
    "\n",
    "p.sub('')"
   ]
  },
  {
   "cell_type": "code",
   "execution_count": null,
   "metadata": {},
   "outputs": [],
   "source": [
    "alterSummaLines()"
   ]
  },
  {
   "cell_type": "code",
   "execution_count": 8,
   "metadata": {},
   "outputs": [],
   "source": [
    "lines.insert(264, 'QUESTION PENIS')"
   ]
  },
  {
   "cell_type": "code",
   "execution_count": 5,
   "metadata": {},
   "outputs": [
    {
     "data": {
      "text/plain": [
       "'ARTICLE [II-II, Q. 48, Art.]\\n'"
      ]
     },
     "execution_count": 5,
     "metadata": {},
     "output_type": "execute_result"
    }
   ],
   "source": [
    "lines[22303]"
   ]
  },
  {
   "cell_type": "code",
   "execution_count": 9,
   "metadata": {},
   "outputs": [
    {
     "data": {
      "text/plain": [
       "['principle of his actions, as having free-will and control of his\\n',\n",
       " 'actions.\\n',\n",
       " '________________________\\n',\n",
       " '\\n',\n",
       " 'QUESTION PENIS',\n",
       " \"OF MAN'S LAST END\\n\",\n",
       " '(In Eight Articles)\\n',\n",
       " '\\n',\n",
       " 'In this matter we shall consider first the last end of human life;\\n',\n",
       " 'and secondly, those things by means of which man may advance towards\\n']"
      ]
     },
     "execution_count": 9,
     "metadata": {},
     "output_type": "execute_result"
    }
   ],
   "source": [
    "lines[260:270]"
   ]
  },
  {
   "cell_type": "code",
   "execution_count": 2,
   "metadata": {},
   "outputs": [
    {
     "name": "stdout",
     "output_type": "stream",
     "text": [
      "0\n",
      "1\n",
      "2\n",
      "3\n",
      "4\n",
      "5\n",
      "6\n",
      "7\n",
      "8\n",
      "9\n"
     ]
    },
    {
     "ename": "KeyError",
     "evalue": "'sedContraStart'",
     "output_type": "error",
     "traceback": [
      "\u001b[1;31m---------------------------------------------------------------------------\u001b[0m",
      "\u001b[1;31mKeyError\u001b[0m                                  Traceback (most recent call last)",
      "Cell \u001b[1;32mIn[2], line 1\u001b[0m\n\u001b[1;32m----> 1\u001b[0m summaDriver(\n\u001b[0;32m      2\u001b[0m     rawSummaTextAddress\u001b[38;5;241m=\u001b[39m\u001b[38;5;124m'\u001b[39m\u001b[38;5;124m./../data/st_raw_prima_pars.txt\u001b[39m\u001b[38;5;124m'\u001b[39m,\n\u001b[0;32m      3\u001b[0m     summaPartStr\u001b[38;5;241m=\u001b[39m\u001b[38;5;124m'\u001b[39m\u001b[38;5;124mI\u001b[39m\u001b[38;5;124m'\u001b[39m,\n\u001b[0;32m      4\u001b[0m     destinationDirectory\u001b[38;5;241m=\u001b[39m\u001b[38;5;124m'\u001b[39m\u001b[38;5;124mC:/Users/jackk/Projects/summa/html/summa/primaPars/\u001b[39m\u001b[38;5;124m'\u001b[39m\n\u001b[0;32m      5\u001b[0m )\n",
      "File \u001b[1;32mc:\\Users\\jackk\\Projects\\summa\\code\\summa.py:303\u001b[0m, in \u001b[0;36msummaDriver\u001b[1;34m(rawSummaTextAddress, summaPartStr, destinationDirectory)\u001b[0m\n\u001b[0;32m    301\u001b[0m \u001b[38;5;28;01mfor\u001b[39;00m questionLines \u001b[38;5;129;01min\u001b[39;00m summaParsed[\u001b[38;5;124m'\u001b[39m\u001b[38;5;124mquestionsLines\u001b[39m\u001b[38;5;124m'\u001b[39m]:\n\u001b[0;32m    302\u001b[0m     \u001b[38;5;28mprint\u001b[39m(questionCnt)\n\u001b[1;32m--> 303\u001b[0m     questionHtml \u001b[38;5;241m=\u001b[39m generateQuestionHtml(\n\u001b[0;32m    304\u001b[0m         questionLines\u001b[38;5;241m=\u001b[39mquestionLines,\n\u001b[0;32m    305\u001b[0m         summaPartStr\u001b[38;5;241m=\u001b[39msummaPartStr\n\u001b[0;32m    306\u001b[0m     )\n\u001b[0;32m    307\u001b[0m     \u001b[38;5;28;01mwith\u001b[39;00m \u001b[38;5;28mopen\u001b[39m(\u001b[38;5;124mf\u001b[39m\u001b[38;5;124m\"\u001b[39m\u001b[38;5;132;01m{\u001b[39;00mdestinationDirectory\u001b[38;5;132;01m}\u001b[39;00m\u001b[38;5;124m/questions/summa\u001b[39m\u001b[38;5;132;01m{\u001b[39;00msummaPartStr\u001b[38;5;132;01m}\u001b[39;00m\u001b[38;5;124mq\u001b[39m\u001b[38;5;132;01m{\u001b[39;00mquestionCnt\u001b[38;5;132;01m}\u001b[39;00m\u001b[38;5;124m.html\u001b[39m\u001b[38;5;124m\"\u001b[39m, \u001b[38;5;124m'\u001b[39m\u001b[38;5;124mwb\u001b[39m\u001b[38;5;124m'\u001b[39m) \u001b[38;5;28;01mas\u001b[39;00m file:\n\u001b[0;32m    308\u001b[0m         file\u001b[38;5;241m.\u001b[39mwrite(\u001b[38;5;28mbytes\u001b[39m(questionHtml))\n",
      "File \u001b[1;32mc:\\Users\\jackk\\Projects\\summa\\code\\summa.py:201\u001b[0m, in \u001b[0;36mgenerateQuestionHtml\u001b[1;34m(questionLines, summaPartStr)\u001b[0m\n\u001b[0;32m    198\u001b[0m \u001b[38;5;28;01mfor\u001b[39;00m i \u001b[38;5;129;01min\u001b[39;00m \u001b[38;5;28mrange\u001b[39m(\u001b[38;5;28mlen\u001b[39m(questionIndices[\u001b[38;5;124m'\u001b[39m\u001b[38;5;124marticleSeparators\u001b[39m\u001b[38;5;124m'\u001b[39m]) \u001b[38;5;241m-\u001b[39m \u001b[38;5;241m1\u001b[39m):\n\u001b[0;32m    199\u001b[0m     articleLines \u001b[38;5;241m=\u001b[39m questionLines[questionIndices[\u001b[38;5;124m'\u001b[39m\u001b[38;5;124marticleSeparators\u001b[39m\u001b[38;5;124m'\u001b[39m][i]\u001b[38;5;241m+\u001b[39m\u001b[38;5;241m2\u001b[39m:questionIndices[\u001b[38;5;124m'\u001b[39m\u001b[38;5;124marticleSeparators\u001b[39m\u001b[38;5;124m'\u001b[39m][i\u001b[38;5;241m+\u001b[39m\u001b[38;5;241m1\u001b[39m]]\n\u001b[0;32m    200\u001b[0m     articlesParsed\u001b[38;5;241m.\u001b[39mappend(\n\u001b[1;32m--> 201\u001b[0m         parseArticle(articleLines)\n\u001b[0;32m    202\u001b[0m     )\n\u001b[0;32m    204\u001b[0m questionHtmlBuilder \u001b[38;5;241m=\u001b[39m Airium()\n\u001b[0;32m    205\u001b[0m \u001b[38;5;28;01mwith\u001b[39;00m questionHtmlBuilder\u001b[38;5;241m.\u001b[39mhead():\n",
      "File \u001b[1;32mc:\\Users\\jackk\\Projects\\summa\\code\\summa.py:103\u001b[0m, in \u001b[0;36mparseArticle\u001b[1;34m(articleLines)\u001b[0m\n\u001b[0;32m     98\u001b[0m articleParsed[\u001b[38;5;124m'\u001b[39m\u001b[38;5;124marticleNum\u001b[39m\u001b[38;5;124m'\u001b[39m] \u001b[38;5;241m=\u001b[39m re\u001b[38;5;241m.\u001b[39msearch(patterns[\u001b[38;5;124m'\u001b[39m\u001b[38;5;124marticleFirstLine\u001b[39m\u001b[38;5;124m'\u001b[39m], articleLines[\u001b[38;5;241m0\u001b[39m])\u001b[38;5;241m.\u001b[39mgroup(\u001b[38;5;241m1\u001b[39m)\n\u001b[0;32m     99\u001b[0m articleParsed[\u001b[38;5;124m'\u001b[39m\u001b[38;5;124marticleTitle\u001b[39m\u001b[38;5;124m'\u001b[39m] \u001b[38;5;241m=\u001b[39m \u001b[38;5;124mf\u001b[39m\u001b[38;5;124m\"\u001b[39m\u001b[38;5;132;01m{\u001b[39;00marticleLines[\u001b[38;5;241m0\u001b[39m]\u001b[38;5;241m.\u001b[39mstrip()\u001b[38;5;132;01m}\u001b[39;00m\u001b[38;5;124m: \u001b[39m\u001b[38;5;132;01m{\u001b[39;00marticleLines[\u001b[38;5;241m2\u001b[39m]\u001b[38;5;132;01m}\u001b[39;00m\u001b[38;5;124m\"\u001b[39m\n\u001b[0;32m    100\u001b[0m articleParsed[\u001b[38;5;124m'\u001b[39m\u001b[38;5;124mobjections\u001b[39m\u001b[38;5;124m'\u001b[39m] \u001b[38;5;241m=\u001b[39m parseObjections(\n\u001b[0;32m    101\u001b[0m     articleLines\u001b[38;5;241m=\u001b[39marticleLines,\n\u001b[0;32m    102\u001b[0m     objectionStarts\u001b[38;5;241m=\u001b[39marticleIndices[\u001b[38;5;124m'\u001b[39m\u001b[38;5;124mobjectionStarts\u001b[39m\u001b[38;5;124m'\u001b[39m],\n\u001b[1;32m--> 103\u001b[0m     sedContraStart\u001b[38;5;241m=\u001b[39marticleIndices[\u001b[38;5;124m'\u001b[39m\u001b[38;5;124msedContraStart\u001b[39m\u001b[38;5;124m'\u001b[39m]\n\u001b[0;32m    104\u001b[0m )\n\u001b[0;32m    105\u001b[0m articleParsed[\u001b[38;5;124m'\u001b[39m\u001b[38;5;124mreplies\u001b[39m\u001b[38;5;124m'\u001b[39m] \u001b[38;5;241m=\u001b[39m parseReplies(\n\u001b[0;32m    106\u001b[0m     articleLines\u001b[38;5;241m=\u001b[39marticleLines,\n\u001b[0;32m    107\u001b[0m     replyStarts\u001b[38;5;241m=\u001b[39marticleIndices[\u001b[38;5;124m'\u001b[39m\u001b[38;5;124mreplyStarts\u001b[39m\u001b[38;5;124m'\u001b[39m]\n\u001b[0;32m    108\u001b[0m )\n\u001b[0;32m    109\u001b[0m articleParsed[\u001b[38;5;124m'\u001b[39m\u001b[38;5;124msedContra\u001b[39m\u001b[38;5;124m'\u001b[39m] \u001b[38;5;241m=\u001b[39m articleLines[articleIndices[\u001b[38;5;124m'\u001b[39m\u001b[38;5;124msedContraStart\u001b[39m\u001b[38;5;124m'\u001b[39m]:articleIndices[\u001b[38;5;124m'\u001b[39m\u001b[38;5;124mrespondeoStart\u001b[39m\u001b[38;5;124m'\u001b[39m]]\n",
      "\u001b[1;31mKeyError\u001b[0m: 'sedContraStart'"
     ]
    }
   ],
   "source": [
    "summaDriver(\n",
    "    rawSummaTextAddress='./../data/st_raw_prima_pars.txt',\n",
    "    summaPartStr='I',\n",
    "    destinationDirectory='C:/Users/jackk/Projects/summa/html/summa/primaPars/'\n",
    ")"
   ]
  },
  {
   "cell_type": "code",
   "execution_count": null,
   "metadata": {},
   "outputs": [],
   "source": [
    "cnt = 0\n",
    "questionStarts = []\n",
    "for line in lines:\n",
    "    if re.search(patterns['questionStart'], line):\n",
    "        questionStarts.append(cnt)\n",
    "    cnt += 1\n",
    "\n",
    "q1 = lines[questionStarts[0]:questionStarts[1]]\n",
    "cnt = 0\n",
    "articleSeparators = []\n",
    "for line in q1:\n",
    "    if re.search(patterns['articleSeparator'], line):\n",
    "        articleSeparators.append(cnt)\n",
    "    cnt += 1\n",
    "\n",
    "a1 = q1[(articleSeparators[0]+1):articleSeparators[1]]\n"
   ]
  },
  {
   "cell_type": "code",
   "execution_count": null,
   "metadata": {},
   "outputs": [],
   "source": [
    "lines"
   ]
  },
  {
   "cell_type": "code",
   "execution_count": null,
   "metadata": {},
   "outputs": [],
   "source": [
    "def parseSumma(rawSummaText):\n",
    "    "
   ]
  },
  {
   "cell_type": "code",
   "execution_count": null,
   "metadata": {},
   "outputs": [],
   "source": [
    "c = generateContentsHtml(contentsLines, 'I', 'C:/Users/jackk/Projects/summa/html/summa/primaPars/')\n",
    "\n",
    "with open(f\"./../html/ctest.html\", 'wb') as file:\n",
    "    file.write(bytes(c))"
   ]
  },
  {
   "cell_type": "code",
   "execution_count": null,
   "metadata": {},
   "outputs": [],
   "source": [
    "firstQuestionIndex = [key for key, value in contentsIndices['runningQuestionTypeCategory'].items() if value == 'question'][0]\n",
    "trimmedRunningContentsIndices = {key: value for key, value in contentsIndices['runningQuestionTypeCategory'].items() if key >= firstQuestionIndex}\n",
    "\n",
    "questionsAndTitles = {}\n",
    "titleCnt = 0\n",
    "priorLineType = 'sectionTitle'\n",
    "for lineNum, lineType in trimmedRunningContentsIndices.items():\n",
    "    #print(contentsLines[lineNum], lineType)\n",
    "    if lineType == 'question':\n",
    "        if priorLineType != 'sectionTitle':\n",
    "            questionsAndTitles[questionNum] = activeQuestionTitle\n",
    "        questionSearch = re.search(patterns['contentsQuestionLines'], contentsLines[lineNum])\n",
    "        questionNum = int(questionSearch.group(1))\n",
    "        activeQuestionTitle = questionSearch.group(2)\n",
    "    elif lineType == 'continuedQuestion':\n",
    "        continuedQuestionSearch = re.search(patterns['continuedContentsQuestionLine'], contentsLines[lineNum])\n",
    "        activeQuestionTitle += f\" {continuedQuestionSearch.group(1)}\"\n",
    "    elif lineType == 'sectionTitle':\n",
    "        questionsAndTitles[questionNum] = activeQuestionTitle\n",
    "        questionsAndTitles[f\"title{titleCnt}\"] = contentsLines[lineNum]\n",
    "        titleCnt += 1\n",
    "    priorLineType = lineType\n"
   ]
  },
  {
   "cell_type": "code",
   "execution_count": null,
   "metadata": {},
   "outputs": [],
   "source": [
    "questionsAndTitles"
   ]
  },
  {
   "cell_type": "code",
   "execution_count": null,
   "metadata": {},
   "outputs": [],
   "source": [
    "firstQuestionIndex = [key for key, value in contentsIndices['runningQuestionTypeCategory'].items() if value == 'question'][0]\n",
    "trimmedRunningContentsIndices = {key: value for key, value in contentsIndices['runningQuestionTypeCategory'].items() if key >= firstQuestionIndex}\n",
    "trimmedRunningContentsIndices"
   ]
  },
  {
   "cell_type": "code",
   "execution_count": null,
   "metadata": {},
   "outputs": [],
   "source": [
    "q = generateQuestionHtml(questionLines, 'I')\n",
    "\n",
    "with open(f\"./../html/qtest.html\", 'wb') as file:\n",
    "    file.write(bytes(q))"
   ]
  }
 ],
 "metadata": {
  "kernelspec": {
   "display_name": "base",
   "language": "python",
   "name": "python3"
  },
  "language_info": {
   "codemirror_mode": {
    "name": "ipython",
    "version": 3
   },
   "file_extension": ".py",
   "mimetype": "text/x-python",
   "name": "python",
   "nbconvert_exporter": "python",
   "pygments_lexer": "ipython3",
   "version": "3.11.7"
  }
 },
 "nbformat": 4,
 "nbformat_minor": 2
}
