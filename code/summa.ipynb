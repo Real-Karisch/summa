{
 "cells": [
  {
   "cell_type": "code",
   "execution_count": 1,
   "metadata": {},
   "outputs": [],
   "source": [
    "import re\n",
    "from copy import deepcopy\n",
    "from airium import Airium\n",
    "import json\n",
    "import os\n",
    "from string import capwords\n",
    "from summaToHtml import alterSummaLines, parseSumma, processQuestionIndices, patterns, processArticleIndices, processContentsIndices, summaParts\n",
    "from summaToJson import generateSummaJson, generateContentsJson\n",
    "from summaJsonToHtml import generateContentsHtml, generateQuestionHtml"
   ]
  },
  {
   "cell_type": "code",
   "execution_count": 2,
   "metadata": {},
   "outputs": [],
   "source": [
    "with open('C:/Users/jackk/Projects/summa/json/allSummas.json', 'r') as file:\n",
    "    allSummasJson = json.load(file)"
   ]
  },
  {
   "cell_type": "code",
   "execution_count": 47,
   "metadata": {},
   "outputs": [],
   "source": [
    "string = \"Further, whoever sees a mirror, @sees what is reflected@ in the mirror. But all actual or possible things shine forth in God as in a mirror; for He knows all things in Himself. Therefore whoever sees God, sees all actual things in Him, and also all possible things.\""
   ]
  },
  {
   "cell_type": "code",
   "execution_count": 60,
   "metadata": {},
   "outputs": [],
   "source": [
    "string = \"Nothing _prevents_ inferior faculties or _habits from_ being differentiated by something which falls under a higher faculty or habit as well; because the higher faculty or habit regards the object in its more universal formality, as the object of the _common sense_ is whatever affects the senses, including, therefore, whatever is visible or audible. Hence the _common sense,_ although one faculty, extends to all the objects of the five senses. Similarly, objects which are the subject-matter of different philosophical sciences can yet be treated of by this one single sacred science under one aspect precisely so far as they can be included in revelation. So that in this way, sacred doctrine bears, as it were, the stamp of the divine science which is one and simple, yet extends to everything.\""
   ]
  },
  {
   "cell_type": "code",
   "execution_count": 63,
   "metadata": {},
   "outputs": [
    {
     "data": {
      "text/plain": [
       "'Nothing <i>prevents</i> inferior faculties or <i>habits from</i> being differentiated by something which falls under a higher faculty or habit as well; because the higher faculty or habit regards the object in its more universal formality, as the object of the <i>common sense</i> is whatever affects the senses, including, therefore, whatever is visible or audible. Hence the <i>common sense,</i> although one faculty, extends to all the objects of the five senses. Similarly, objects which are the subject-matter of different philosophical sciences can yet be treated of by this one single sacred science under one aspect precisely so far as they can be included in revelation. So that in this way, sacred doctrine bears, as it were, the stamp of the divine science which is one and simple, yet extends to everything.'"
      ]
     },
     "execution_count": 63,
     "metadata": {},
     "output_type": "execute_result"
    }
   ],
   "source": [
    "htmlRegionTagTranslations = [ #these will fill in the symbol with tag, and put the second capture group (if any) in the dynamic attribute\n",
    "    {\n",
    "        'symbol': '_',\n",
    "        'tag': 'i',\n",
    "        'dynamicAttribute': ''\n",
    "    },\n",
    "    {\n",
    "        'symbol': '@',\n",
    "        'tag': 'span',\n",
    "        'dynamicAttribute': 'title'\n",
    "    }\n",
    "]\n",
    "\n",
    "def htmlRegionTagTranslator(string):\n",
    "    stringList = list(string)\n",
    "    for tagDetails in htmlRegionTagTranslations:\n",
    "        \n",
    "\n",
    "        if re.search(tagDetails['symbol'], string):\n",
    "            pattern = f\"{tagDetails['symbol']}(.*)#(.*){tagDetails['symbol']}\" if tagDetails['dynamicAttribute'] != '' else f\"{tagDetails['symbol']}([^{tagDetails['symbol']}]*)(){tagDetails['symbol']}\"\n",
    "            matchCnt = 1\n",
    "            for match in re.finditer(pattern, string):\n",
    "                dynamicAttribute = f\" {tagDetails['dynamicAttribute']}=\" if tagDetails['dynamicAttribute'] != '' else ''\n",
    "                stringList[match.start()] = f\"<{tagDetails['tag']}{dynamicAttribute}{match.group(2)}>{match.group(1)}</{tagDetails['tag']}>\"\n",
    "                stringList[match.start()+1:match.end()] = [''] * (match.end() - match.start() - 1)\n",
    "                matchCnt += 1\n",
    "\n",
    "    newString = ''.join(stringList)\n",
    "    return newString\n",
    "\n",
    "htmlRegionTagTranslator(string)"
   ]
  }
 ],
 "metadata": {
  "kernelspec": {
   "display_name": "base",
   "language": "python",
   "name": "python3"
  },
  "language_info": {
   "codemirror_mode": {
    "name": "ipython",
    "version": 3
   },
   "file_extension": ".py",
   "mimetype": "text/x-python",
   "name": "python",
   "nbconvert_exporter": "python",
   "pygments_lexer": "ipython3",
   "version": "3.11.7"
  }
 },
 "nbformat": 4,
 "nbformat_minor": 2
}
