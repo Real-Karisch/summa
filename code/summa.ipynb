{
 "cells": [
  {
   "cell_type": "code",
   "execution_count": 1,
   "metadata": {},
   "outputs": [],
   "source": [
    "import re\n",
    "from copy import deepcopy\n",
    "from airium import Airium\n",
    "import json\n",
    "import os\n",
    "from summaToHtml import alterSummaLines, parseSumma, processQuestionIndices, patterns, processArticleIndices, processContentsIndices, summaParts\n",
    "from summaToJson import generateSummaJson, generateContentsJson\n",
    "from summaJsonToHtml import generateContentsHtml, generateQuestionHtml"
   ]
  }
 ],
 "metadata": {
  "kernelspec": {
   "display_name": "base",
   "language": "python",
   "name": "python3"
  },
  "language_info": {
   "codemirror_mode": {
    "name": "ipython",
    "version": 3
   },
   "file_extension": ".py",
   "mimetype": "text/x-python",
   "name": "python",
   "nbconvert_exporter": "python",
   "pygments_lexer": "ipython3",
   "version": "3.11.7"
  }
 },
 "nbformat": 4,
 "nbformat_minor": 2
}
